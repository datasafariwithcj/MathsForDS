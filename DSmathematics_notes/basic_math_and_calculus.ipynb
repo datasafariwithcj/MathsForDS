{
 "cells": [
  {
   "cell_type": "markdown",
   "id": "53a4e23e-d11b-40bf-afc0-90df35845df6",
   "metadata": {},
   "source": [
    "# Basic Math and Calculus"
   ]
  },
  {
   "cell_type": "markdown",
   "id": "1edddd7f-ca1f-4c2a-a9af-e0c7baf70174",
   "metadata": {},
   "source": [
    "## Number Theory"
   ]
  },
  {
   "cell_type": "markdown",
   "id": "69cbb12c-ac73-4b0a-9819-e441a8792fe0",
   "metadata": {},
   "source": [
    "**Natural numbers**\n",
    "\n",
    "These are the numbers 1, 2, 3, 4, 5…and so on. Only positive numbers are included here.\n",
    "\n",
    "**Whole numbers**\n",
    "\n",
    "Adding to natural numbers, the concept of “0” was later accepted; we call these “whole numbers.”\n",
    "\n",
    "**Integers**\n",
    "\n",
    "Integers include positive and negative natural numbers as well as 0. In 628 AD, an Indian mathematician named Brahmagupta showed why negative numbers were necessary for arithmetic to progress with the quadratic formula, and therefore integers became accepted.\n",
    "\n",
    "**Rational numbers**\n",
    "\n",
    "Any number that you can express as a fraction, such as 2/3, is a rational number. This includes all finite decimals and integers since they can be expressed as fractions, too, such as 687/100  = 6.87 and 2/1 = 2, respectively. They are called rational because they are ratios. \n",
    "\n",
    "**Irrational numbers**\n",
    "\n",
    "Irrational numbers cannot be expressed as a fraction. This includes the famous π, square roots of certain numbers like 2 and Euler’s number \"e\". These numbers have an infinite number of decimal digits.\n",
    "\n",
    "**Real numbers**\n",
    "\n",
    "Real number = Rational numbers + Irrational numbers. Practically any decimal is a real number.\n",
    "\n",
    "**Complex or imaginary number**\n",
    "\n",
    "Square root of a negative number. "
   ]
  },
  {
   "cell_type": "markdown",
   "id": "c88d3ea1-0cda-4012-b3ad-dece32b918a8",
   "metadata": {},
   "source": [
    "## Order of Operations"
   ]
  },
  {
   "cell_type": "markdown",
   "id": "009cae87-0b41-41f4-bf51-2dd148fc25d1",
   "metadata": {},
   "source": [
    "PEDMAS"
   ]
  },
  {
   "cell_type": "markdown",
   "id": "aa0de5c2-a2fd-479e-b766-538056240adc",
   "metadata": {},
   "source": [
    "## Functions"
   ]
  },
  {
   "cell_type": "markdown",
   "id": "c25ac051-1b37-4827-828b-d482b32e9f6e",
   "metadata": {},
   "source": [
    "Functions are expressions that define relationships between two or more variables. A function takes input variables (independent variables), plugs them into an expression, and then results in an output variable (also called dependent variable).\n",
    "\n",
    "Functions are useful because they model a predictable relationship between variables."
   ]
  },
  {
   "cell_type": "markdown",
   "id": "cd6c393f-2b5c-4f6b-b26b-1057bd9a2317",
   "metadata": {},
   "source": []
  },
  {
   "cell_type": "markdown",
   "id": "0ab271ff-134a-4344-81a9-a34d69090c9b",
   "metadata": {},
   "source": []
  },
  {
   "cell_type": "markdown",
   "id": "459b8773-050b-4f61-b45b-7d877f35580c",
   "metadata": {},
   "source": []
  },
  {
   "cell_type": "markdown",
   "id": "97a9c5cd-ed92-438f-9c6b-29fe69436f55",
   "metadata": {},
   "source": []
  }
 ],
 "metadata": {
  "kernelspec": {
   "display_name": "sagemaker-distribution:Python",
   "language": "python",
   "name": "conda-env-sagemaker-distribution-py"
  },
  "language_info": {
   "codemirror_mode": {
    "name": "ipython",
    "version": 3
   },
   "file_extension": ".py",
   "mimetype": "text/x-python",
   "name": "python",
   "nbconvert_exporter": "python",
   "pygments_lexer": "ipython3",
   "version": "3.10.14"
  }
 },
 "nbformat": 4,
 "nbformat_minor": 5
}
